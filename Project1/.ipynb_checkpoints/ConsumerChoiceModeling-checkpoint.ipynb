{
 "cells": [
  {
   "cell_type": "raw",
   "metadata": {},
   "source": [
    "Consumer choice modeling :\n",
    "    -understanding how  consumer  make decisions :\n",
    "        i) Is it possible  to  find  preference ordering for  product  brands\n",
    "        ii)Can we infere that  there even exists  a preference  between  brans?"
   ]
  },
  {
   "cell_type": "code",
   "execution_count": 2,
   "metadata": {
    "collapsed": true
   },
   "outputs": [],
   "source": [
    "import pandas as pd\n",
    "import numpy  as np"
   ]
  },
  {
   "cell_type": "code",
   "execution_count": 58,
   "metadata": {
    "collapsed": false
   },
   "outputs": [
    {
     "data": {
      "text/html": [
       "<div>\n",
       "<table border=\"1\" class=\"dataframe\">\n",
       "  <thead>\n",
       "    <tr style=\"text-align: right;\">\n",
       "      <th></th>\n",
       "      <th>gender</th>\n",
       "      <th>candy</th>\n",
       "      <th>flavor</th>\n",
       "      <th>age</th>\n",
       "      <th>ethnicity</th>\n",
       "      <th>shirt color</th>\n",
       "    </tr>\n",
       "  </thead>\n",
       "  <tbody>\n",
       "    <tr>\n",
       "      <th>0</th>\n",
       "      <td>M</td>\n",
       "      <td>reeses</td>\n",
       "      <td>NaN</td>\n",
       "      <td>26.0</td>\n",
       "      <td>white</td>\n",
       "      <td>red</td>\n",
       "    </tr>\n",
       "    <tr>\n",
       "      <th>1</th>\n",
       "      <td>M</td>\n",
       "      <td>kitkat</td>\n",
       "      <td>NaN</td>\n",
       "      <td>32.0</td>\n",
       "      <td>black</td>\n",
       "      <td>green</td>\n",
       "    </tr>\n",
       "    <tr>\n",
       "      <th>2</th>\n",
       "      <td>F</td>\n",
       "      <td>airhead</td>\n",
       "      <td>double mystery</td>\n",
       "      <td>26.0</td>\n",
       "      <td>mixed</td>\n",
       "      <td>white</td>\n",
       "    </tr>\n",
       "    <tr>\n",
       "      <th>3</th>\n",
       "      <td>M</td>\n",
       "      <td>starburst</td>\n",
       "      <td>red</td>\n",
       "      <td>26.0</td>\n",
       "      <td>white</td>\n",
       "      <td>red</td>\n",
       "    </tr>\n",
       "    <tr>\n",
       "      <th>4</th>\n",
       "      <td>F</td>\n",
       "      <td>reeses</td>\n",
       "      <td>NaN</td>\n",
       "      <td>31.0</td>\n",
       "      <td>white</td>\n",
       "      <td>black</td>\n",
       "    </tr>\n",
       "    <tr>\n",
       "      <th>5</th>\n",
       "      <td>F</td>\n",
       "      <td>starburst</td>\n",
       "      <td>red</td>\n",
       "      <td>26.0</td>\n",
       "      <td>asian</td>\n",
       "      <td>blue</td>\n",
       "    </tr>\n",
       "    <tr>\n",
       "      <th>6</th>\n",
       "      <td>F</td>\n",
       "      <td>hersheys</td>\n",
       "      <td>milk</td>\n",
       "      <td>27.0</td>\n",
       "      <td>asian</td>\n",
       "      <td>white</td>\n",
       "    </tr>\n",
       "    <tr>\n",
       "      <th>7</th>\n",
       "      <td>M</td>\n",
       "      <td>airhead</td>\n",
       "      <td>double mystery</td>\n",
       "      <td>23.0</td>\n",
       "      <td>white</td>\n",
       "      <td>black</td>\n",
       "    </tr>\n",
       "    <tr>\n",
       "      <th>8</th>\n",
       "      <td>M</td>\n",
       "      <td>starburst</td>\n",
       "      <td>pink</td>\n",
       "      <td>26.0</td>\n",
       "      <td>asian</td>\n",
       "      <td>white</td>\n",
       "    </tr>\n",
       "    <tr>\n",
       "      <th>9</th>\n",
       "      <td>M</td>\n",
       "      <td>reeses</td>\n",
       "      <td>NaN</td>\n",
       "      <td>30.0</td>\n",
       "      <td>asian</td>\n",
       "      <td>pink</td>\n",
       "    </tr>\n",
       "    <tr>\n",
       "      <th>10</th>\n",
       "      <td>F</td>\n",
       "      <td>rolo</td>\n",
       "      <td>NaN</td>\n",
       "      <td>26.0</td>\n",
       "      <td>mixed</td>\n",
       "      <td>white</td>\n",
       "    </tr>\n",
       "    <tr>\n",
       "      <th>11</th>\n",
       "      <td>F</td>\n",
       "      <td>kitkat</td>\n",
       "      <td>NaN</td>\n",
       "      <td>41.0</td>\n",
       "      <td>mixed</td>\n",
       "      <td>blue</td>\n",
       "    </tr>\n",
       "    <tr>\n",
       "      <th>12</th>\n",
       "      <td>F</td>\n",
       "      <td>airhead</td>\n",
       "      <td>strawberry/watermelon</td>\n",
       "      <td>24.0</td>\n",
       "      <td>white</td>\n",
       "      <td>pink</td>\n",
       "    </tr>\n",
       "    <tr>\n",
       "      <th>13</th>\n",
       "      <td>F</td>\n",
       "      <td>kitkat</td>\n",
       "      <td>NaN</td>\n",
       "      <td>21.0</td>\n",
       "      <td>asian</td>\n",
       "      <td>blue</td>\n",
       "    </tr>\n",
       "    <tr>\n",
       "      <th>14</th>\n",
       "      <td>F</td>\n",
       "      <td>kitkat</td>\n",
       "      <td>NaN</td>\n",
       "      <td>18.0</td>\n",
       "      <td>asian</td>\n",
       "      <td>white</td>\n",
       "    </tr>\n",
       "    <tr>\n",
       "      <th>15</th>\n",
       "      <td>F</td>\n",
       "      <td>kitkat</td>\n",
       "      <td>NaN</td>\n",
       "      <td>33.0</td>\n",
       "      <td>white</td>\n",
       "      <td>blue</td>\n",
       "    </tr>\n",
       "    <tr>\n",
       "      <th>16</th>\n",
       "      <td>M</td>\n",
       "      <td>kitkat</td>\n",
       "      <td>NaN</td>\n",
       "      <td>23.0</td>\n",
       "      <td>asian</td>\n",
       "      <td>gray</td>\n",
       "    </tr>\n",
       "    <tr>\n",
       "      <th>17</th>\n",
       "      <td>M</td>\n",
       "      <td>rolo</td>\n",
       "      <td>NaN</td>\n",
       "      <td>19.0</td>\n",
       "      <td>white</td>\n",
       "      <td>black</td>\n",
       "    </tr>\n",
       "    <tr>\n",
       "      <th>18</th>\n",
       "      <td>F</td>\n",
       "      <td>rolo</td>\n",
       "      <td>NaN</td>\n",
       "      <td>25.0</td>\n",
       "      <td>white</td>\n",
       "      <td>white</td>\n",
       "    </tr>\n",
       "    <tr>\n",
       "      <th>19</th>\n",
       "      <td>F</td>\n",
       "      <td>airhead</td>\n",
       "      <td>NaN</td>\n",
       "      <td>28.0</td>\n",
       "      <td>white</td>\n",
       "      <td>blue</td>\n",
       "    </tr>\n",
       "  </tbody>\n",
       "</table>\n",
       "</div>"
      ],
      "text/plain": [
       "   gender      candy                 flavor   age ethnicity shirt color\n",
       "0       M     reeses                    NaN  26.0     white         red\n",
       "1       M     kitkat                    NaN  32.0     black       green\n",
       "2       F    airhead         double mystery  26.0     mixed       white\n",
       "3       M  starburst                    red  26.0     white         red\n",
       "4       F     reeses                    NaN  31.0     white       black\n",
       "5       F  starburst                    red  26.0     asian        blue\n",
       "6       F   hersheys                   milk  27.0     asian       white\n",
       "7       M    airhead         double mystery  23.0     white       black\n",
       "8       M  starburst                   pink  26.0     asian       white\n",
       "9       M     reeses                    NaN  30.0     asian        pink\n",
       "10      F       rolo                    NaN  26.0     mixed       white\n",
       "11      F     kitkat                    NaN  41.0     mixed        blue\n",
       "12      F    airhead  strawberry/watermelon  24.0     white        pink\n",
       "13      F     kitkat                    NaN  21.0     asian        blue\n",
       "14      F     kitkat                    NaN  18.0     asian       white\n",
       "15      F     kitkat                    NaN  33.0     white        blue\n",
       "16      M     kitkat                    NaN  23.0     asian        gray\n",
       "17      M       rolo                    NaN  19.0     white       black\n",
       "18      F       rolo                    NaN  25.0     white       white\n",
       "19      F    airhead                    NaN  28.0     white        blue"
      ]
     },
     "execution_count": 58,
     "metadata": {},
     "output_type": "execute_result"
    }
   ],
   "source": [
    "candy=pd.read_csv('candy_choices.csv')\n",
    "candy.head(20)"
   ]
  },
  {
   "cell_type": "markdown",
   "metadata": {},
   "source": [
    "## Description  of candy  bowl  data :\n",
    "### The  goal is  to understand  what influences   consumer choice\n",
    "### Potential  attributes  that   could influence  candy selection are    :\n",
    "###            i)     Gender , Flavor ,  Age,  Ethnicity\n",
    "###            ii)    Shirt color  is  a  spurrious attribute that  we agree  is not having  impact.\n",
    "###            iii)   In this case if  one   the  attributes has a   weaker  relation   then the  shirt color  we could ignore it\n"
   ]
  },
  {
   "cell_type": "markdown",
   "metadata": {},
   "source": [
    "# How popular are different brand  of candies ?  Data is ordered   cronological    so   we could have this metrics :\n",
    "    i) time between selections - also  called  interselection time\n",
    "    ii)Total number of records  selecting a  candy\n",
    "    "
   ]
  },
  {
   "cell_type": "code",
   "execution_count": 8,
   "metadata": {
    "collapsed": false
   },
   "outputs": [
    {
     "data": {
      "text/plain": [
       "' Interselection time :\\na,s,h,h,a\\n0,1.....4\\n'"
      ]
     },
     "execution_count": 8,
     "metadata": {},
     "output_type": "execute_result"
    }
   ],
   "source": [
    "\"\"\" Interselection time :\n",
    "a,s,h,h,a\n",
    "0,1.....4\n",
    "\"\"\""
   ]
  },
  {
   "cell_type": "code",
   "execution_count": 9,
   "metadata": {
    "collapsed": false
   },
   "outputs": [
    {
     "data": {
      "text/plain": [
       "(array(['airhead', 'hersheys', 'kitkat', 'reeses', 'rolo', 'starburst'], dtype=object),\n",
       " array([24, 36, 38, 34, 25, 17]))"
      ]
     },
     "execution_count": 9,
     "metadata": {},
     "output_type": "execute_result"
    }
   ],
   "source": [
    "np.unique(candy['candy'],return_counts=True)"
   ]
  },
  {
   "cell_type": "code",
   "execution_count": 19,
   "metadata": {
    "collapsed": false
   },
   "outputs": [
    {
     "data": {
      "text/plain": [
       "<Container object of 6 artists>"
      ]
     },
     "execution_count": 19,
     "metadata": {},
     "output_type": "execute_result"
    },
    {
     "data": {
      "image/png": "[encoded data removed]",
      "text/plain": [
       "<matplotlib.figure.Figure at 0x7fd9ac2cba20>"
      ]
     },
     "metadata": {},
     "output_type": "display_data"
    }
   ],
   "source": [
    "#Total record  of  selected candys\n",
    "import matplotlib.pyplot as plt\n",
    "%matplotlib inline\n",
    "plt.figure()\n",
    "#xvals = range(len(np.unique(candy['candy'],return_counts=True)[1]))\n",
    "plt.bar(xvals,np.unique(candy['candy'],return_counts=True)[1] , width = 0.3)\n",
    " "
   ]
  },
  {
   "cell_type": "code",
   "execution_count": 30,
   "metadata": {
    "collapsed": false
   },
   "outputs": [],
   "source": [
    "# interselection time :\n",
    "event_list=[]\n",
    "i=0\n",
    "time_since_last={}\n",
    "for item in candy['candy'].values:\n",
    "    if item in time_since_last:\n",
    "        event_list.append((i,item,time_since_last[item]))\n",
    "    for  e in  time_since_last.keys():\n",
    "        time_since_last[e]+=1\n",
    "    time_since_last[item]=0\n",
    "    i+=1"
   ]
  },
  {
   "cell_type": "code",
   "execution_count": 31,
   "metadata": {
    "collapsed": false
   },
   "outputs": [
    {
     "data": {
      "text/plain": [
       "[(4, 'reeses', 3),\n",
       " (5, 'starburst', 1),\n",
       " (7, 'airhead', 4),\n",
       " (8, 'starburst', 2),\n",
       " (9, 'reeses', 4),\n",
       " (11, 'kitkat', 9),\n",
       " (12, 'airhead', 4),\n",
       " (13, 'kitkat', 1),\n",
       " (14, 'kitkat', 0),\n",
       " (15, 'kitkat', 0)]"
      ]
     },
     "execution_count": 31,
     "metadata": {},
     "output_type": "execute_result"
    }
   ],
   "source": [
    "event_list[:10]"
   ]
  },
  {
   "cell_type": "code",
   "execution_count": 32,
   "metadata": {
    "collapsed": false
   },
   "outputs": [
    {
     "data": {
      "text/plain": [
       "(174, 6)"
      ]
     },
     "execution_count": 32,
     "metadata": {},
     "output_type": "execute_result"
    }
   ],
   "source": [
    "candy.shape"
   ]
  },
  {
   "cell_type": "code",
   "execution_count": 35,
   "metadata": {
    "collapsed": false
   },
   "outputs": [
    {
     "data": {
      "text/html": [
       "<div>\n",
       "<table border=\"1\" class=\"dataframe\">\n",
       "  <thead>\n",
       "    <tr style=\"text-align: right;\">\n",
       "      <th></th>\n",
       "      <th>gender</th>\n",
       "      <th>candy</th>\n",
       "      <th>flavor</th>\n",
       "      <th>age</th>\n",
       "      <th>ethnicity</th>\n",
       "      <th>shirt color</th>\n",
       "    </tr>\n",
       "  </thead>\n",
       "  <tbody>\n",
       "    <tr>\n",
       "      <th>0</th>\n",
       "      <td>M</td>\n",
       "      <td>reeses</td>\n",
       "      <td>NaN</td>\n",
       "      <td>26.0</td>\n",
       "      <td>white</td>\n",
       "      <td>red</td>\n",
       "    </tr>\n",
       "    <tr>\n",
       "      <th>1</th>\n",
       "      <td>M</td>\n",
       "      <td>kitkat</td>\n",
       "      <td>NaN</td>\n",
       "      <td>32.0</td>\n",
       "      <td>black</td>\n",
       "      <td>green</td>\n",
       "    </tr>\n",
       "    <tr>\n",
       "      <th>2</th>\n",
       "      <td>F</td>\n",
       "      <td>airhead</td>\n",
       "      <td>double mystery</td>\n",
       "      <td>26.0</td>\n",
       "      <td>mixed</td>\n",
       "      <td>white</td>\n",
       "    </tr>\n",
       "    <tr>\n",
       "      <th>3</th>\n",
       "      <td>M</td>\n",
       "      <td>starburst</td>\n",
       "      <td>red</td>\n",
       "      <td>26.0</td>\n",
       "      <td>white</td>\n",
       "      <td>red</td>\n",
       "    </tr>\n",
       "    <tr>\n",
       "      <th>4</th>\n",
       "      <td>F</td>\n",
       "      <td>reeses</td>\n",
       "      <td>NaN</td>\n",
       "      <td>31.0</td>\n",
       "      <td>white</td>\n",
       "      <td>black</td>\n",
       "    </tr>\n",
       "    <tr>\n",
       "      <th>5</th>\n",
       "      <td>F</td>\n",
       "      <td>starburst</td>\n",
       "      <td>red</td>\n",
       "      <td>26.0</td>\n",
       "      <td>asian</td>\n",
       "      <td>blue</td>\n",
       "    </tr>\n",
       "    <tr>\n",
       "      <th>6</th>\n",
       "      <td>F</td>\n",
       "      <td>hersheys</td>\n",
       "      <td>milk</td>\n",
       "      <td>27.0</td>\n",
       "      <td>asian</td>\n",
       "      <td>white</td>\n",
       "    </tr>\n",
       "    <tr>\n",
       "      <th>7</th>\n",
       "      <td>M</td>\n",
       "      <td>airhead</td>\n",
       "      <td>double mystery</td>\n",
       "      <td>23.0</td>\n",
       "      <td>white</td>\n",
       "      <td>black</td>\n",
       "    </tr>\n",
       "    <tr>\n",
       "      <th>8</th>\n",
       "      <td>M</td>\n",
       "      <td>starburst</td>\n",
       "      <td>pink</td>\n",
       "      <td>26.0</td>\n",
       "      <td>asian</td>\n",
       "      <td>white</td>\n",
       "    </tr>\n",
       "    <tr>\n",
       "      <th>9</th>\n",
       "      <td>M</td>\n",
       "      <td>reeses</td>\n",
       "      <td>NaN</td>\n",
       "      <td>30.0</td>\n",
       "      <td>asian</td>\n",
       "      <td>pink</td>\n",
       "    </tr>\n",
       "    <tr>\n",
       "      <th>10</th>\n",
       "      <td>F</td>\n",
       "      <td>rolo</td>\n",
       "      <td>NaN</td>\n",
       "      <td>26.0</td>\n",
       "      <td>mixed</td>\n",
       "      <td>white</td>\n",
       "    </tr>\n",
       "    <tr>\n",
       "      <th>11</th>\n",
       "      <td>F</td>\n",
       "      <td>kitkat</td>\n",
       "      <td>NaN</td>\n",
       "      <td>41.0</td>\n",
       "      <td>mixed</td>\n",
       "      <td>blue</td>\n",
       "    </tr>\n",
       "    <tr>\n",
       "      <th>12</th>\n",
       "      <td>F</td>\n",
       "      <td>airhead</td>\n",
       "      <td>strawberry/watermelon</td>\n",
       "      <td>24.0</td>\n",
       "      <td>white</td>\n",
       "      <td>pink</td>\n",
       "    </tr>\n",
       "    <tr>\n",
       "      <th>13</th>\n",
       "      <td>F</td>\n",
       "      <td>kitkat</td>\n",
       "      <td>NaN</td>\n",
       "      <td>21.0</td>\n",
       "      <td>asian</td>\n",
       "      <td>blue</td>\n",
       "    </tr>\n",
       "    <tr>\n",
       "      <th>14</th>\n",
       "      <td>F</td>\n",
       "      <td>kitkat</td>\n",
       "      <td>NaN</td>\n",
       "      <td>18.0</td>\n",
       "      <td>asian</td>\n",
       "      <td>white</td>\n",
       "    </tr>\n",
       "  </tbody>\n",
       "</table>\n",
       "</div>"
      ],
      "text/plain": [
       "   gender      candy                 flavor   age ethnicity shirt color\n",
       "0       M     reeses                    NaN  26.0     white         red\n",
       "1       M     kitkat                    NaN  32.0     black       green\n",
       "2       F    airhead         double mystery  26.0     mixed       white\n",
       "3       M  starburst                    red  26.0     white         red\n",
       "4       F     reeses                    NaN  31.0     white       black\n",
       "5       F  starburst                    red  26.0     asian        blue\n",
       "6       F   hersheys                   milk  27.0     asian       white\n",
       "7       M    airhead         double mystery  23.0     white       black\n",
       "8       M  starburst                   pink  26.0     asian       white\n",
       "9       M     reeses                    NaN  30.0     asian        pink\n",
       "10      F       rolo                    NaN  26.0     mixed       white\n",
       "11      F     kitkat                    NaN  41.0     mixed        blue\n",
       "12      F    airhead  strawberry/watermelon  24.0     white        pink\n",
       "13      F     kitkat                    NaN  21.0     asian        blue\n",
       "14      F     kitkat                    NaN  18.0     asian       white"
      ]
     },
     "execution_count": 35,
     "metadata": {},
     "output_type": "execute_result"
    }
   ],
   "source": [
    "candy.head(15)"
   ]
  },
  {
   "cell_type": "code",
   "execution_count": 36,
   "metadata": {
    "collapsed": true
   },
   "outputs": [],
   "source": [
    "def plot_interselection_time(events, color, candy_name):\n",
    "    # Pull out the interselection times for the appropriate candy\n",
    "    candy = [] \n",
    "    for (i, choice, time) in events:\n",
    "        if choice == candy_name:\n",
    "            candy.append(time)\n",
    "            \n",
    "    # Plot the interselection times\n",
    "    plt.plot(range(len(candy)), candy, color=color, label=candy_name)\n",
    "    \n",
    "    # Add a legend and label the axes\n",
    "    plt.legend(frameon=True, shadow=True, framealpha=0.7, loc=0, prop={'size':14})\n",
    "    plt.xlabel(\"Selection number\", fontsize=14)\n",
    "    plt.ylabel(\"Interselection time\", fontsize=14)"
   ]
  },
  {
   "cell_type": "code",
   "execution_count": 53,
   "metadata": {
    "collapsed": false
   },
   "outputs": [
    {
     "data": {
      "image/png": "[encoded data removed]",
      "text/plain": [
       "<matplotlib.figure.Figure at 0x7fd9ac1df710>"
      ]
     },
     "metadata": {},
     "output_type": "display_data"
    }
   ],
   "source": [
    "colrs=['red','blue','green','orange','black','white']\n",
    "i=0\n",
    "for  c in  list(np.unique(candy['candy'],return_counts=True)[0]):\n",
    "    plot_interselection_time(event_list, colrs[i], c)\n",
    "    i=i+1\n",
    "    "
   ]
  },
  {
   "cell_type": "code",
   "execution_count": 54,
   "metadata": {
    "collapsed": false
   },
   "outputs": [
    {
     "data": {
      "image/png": "[encoded data removed]",
      "text/plain": [
       "<matplotlib.figure.Figure at 0x7fd9ac28c400>"
      ]
     },
     "metadata": {},
     "output_type": "display_data"
    }
   ],
   "source": [
    "plot_interselection_time(event_list, \"red\", \"starburst\")\n",
    "plot_interselection_time(event_list, \"orange\", \"airhead\")"
   ]
  },
  {
   "cell_type": "markdown",
   "metadata": {},
   "source": [
    "# High   values  represent  lower demand . THis metric looks  promising  on evaluating popularity"
   ]
  },
  {
   "cell_type": "markdown",
   "metadata": {},
   "source": [
    "# Regression  estimator :\n",
    "    r:  interselection time for a   candy ,,c''  at a  given  turn\n",
    "        r will tell us  its  estimate for  an  interselection time  for candy ,, c''  at any give  turn\n",
    "   Our  data points  are just  the candy selections  adn the order  in which  they where selected with the\n",
    "   \n",
    "   interselection time  writtend besided them\n",
    "   \n",
    "   x=(\"airhead\",1),(\"rollo\",5),(\"starbust\",7)....\n",
    "   \n",
    "   The  estimator  will tell  at a given turn for a given candy  how long  it has been   since it was last selected"
   ]
  },
  {
   "cell_type": "code",
   "execution_count": 57,
   "metadata": {
    "collapsed": false
   },
   "outputs": [
    {
     "data": {
      "text/plain": [
       "(174, 6)"
      ]
     },
     "execution_count": 57,
     "metadata": {},
     "output_type": "execute_result"
    }
   ],
   "source": [
    "candy.shape"
   ]
  },
  {
   "cell_type": "code",
   "execution_count": 61,
   "metadata": {
    "collapsed": false
   },
   "outputs": [],
   "source": [
    "#Each sharedStateEvent will be a map from all candy types to the time since that candy was selected\n",
    "shared_state_events = [{\"airhead\":0, \"starburst\":0, \"hersheys\":0, \"reeses\":0, \"kitkat\":0, \"rolo\":0}]\n",
    "\n",
    "df=candy\n",
    "import copy\n",
    "\n",
    "i = 0\n",
    "time_since_last = {}\n",
    "for item in df[\"candy\"].values:\n",
    "    if not item in time_since_last:\n",
    "        time_since_last[item] = 0\n",
    "    \n",
    "    event_list.append((i, item, time_since_last[item]))\n",
    "    \n",
    "    curr_shared_event = copy.deepcopy(shared_state_events[-1])\n",
    "    curr_shared_event[item] = time_since_last[item]\n",
    "    shared_state_events.append(curr_shared_event)\n",
    "    \n",
    "    time_since_last[item] = 0\n",
    "    \n",
    "    for e in time_since_last.keys():\n",
    "        if e!=item:\n",
    "            time_since_last[e]+=1\n",
    "        \n",
    "    i = i+1"
   ]
  },
  {
   "cell_type": "code",
   "execution_count": 65,
   "metadata": {
    "collapsed": false
   },
   "outputs": [],
   "source": [
    "import pandas\n",
    "events_frame = pandas.DataFrame(shared_state_events)\n",
    "\n"
   ]
  },
  {
   "cell_type": "code",
   "execution_count": 110,
   "metadata": {
    "collapsed": false
   },
   "outputs": [
    {
     "data": {
      "text/html": [
       "<div>\n",
       "<table border=\"1\" class=\"dataframe\">\n",
       "  <thead>\n",
       "    <tr style=\"text-align: right;\">\n",
       "      <th></th>\n",
       "      <th>airhead</th>\n",
       "      <th>hersheys</th>\n",
       "      <th>kitkat</th>\n",
       "      <th>reeses</th>\n",
       "      <th>rolo</th>\n",
       "      <th>starburst</th>\n",
       "    </tr>\n",
       "  </thead>\n",
       "  <tbody>\n",
       "    <tr>\n",
       "      <th>0</th>\n",
       "      <td>0</td>\n",
       "      <td>0</td>\n",
       "      <td>0</td>\n",
       "      <td>0</td>\n",
       "      <td>0</td>\n",
       "      <td>0</td>\n",
       "    </tr>\n",
       "    <tr>\n",
       "      <th>1</th>\n",
       "      <td>0</td>\n",
       "      <td>0</td>\n",
       "      <td>0</td>\n",
       "      <td>0</td>\n",
       "      <td>0</td>\n",
       "      <td>0</td>\n",
       "    </tr>\n",
       "    <tr>\n",
       "      <th>2</th>\n",
       "      <td>0</td>\n",
       "      <td>0</td>\n",
       "      <td>0</td>\n",
       "      <td>0</td>\n",
       "      <td>0</td>\n",
       "      <td>0</td>\n",
       "    </tr>\n",
       "    <tr>\n",
       "      <th>3</th>\n",
       "      <td>0</td>\n",
       "      <td>0</td>\n",
       "      <td>0</td>\n",
       "      <td>0</td>\n",
       "      <td>0</td>\n",
       "      <td>0</td>\n",
       "    </tr>\n",
       "    <tr>\n",
       "      <th>4</th>\n",
       "      <td>0</td>\n",
       "      <td>0</td>\n",
       "      <td>0</td>\n",
       "      <td>0</td>\n",
       "      <td>0</td>\n",
       "      <td>0</td>\n",
       "    </tr>\n",
       "    <tr>\n",
       "      <th>5</th>\n",
       "      <td>0</td>\n",
       "      <td>0</td>\n",
       "      <td>0</td>\n",
       "      <td>3</td>\n",
       "      <td>0</td>\n",
       "      <td>0</td>\n",
       "    </tr>\n",
       "    <tr>\n",
       "      <th>6</th>\n",
       "      <td>0</td>\n",
       "      <td>0</td>\n",
       "      <td>0</td>\n",
       "      <td>3</td>\n",
       "      <td>0</td>\n",
       "      <td>1</td>\n",
       "    </tr>\n",
       "    <tr>\n",
       "      <th>7</th>\n",
       "      <td>0</td>\n",
       "      <td>0</td>\n",
       "      <td>0</td>\n",
       "      <td>3</td>\n",
       "      <td>0</td>\n",
       "      <td>1</td>\n",
       "    </tr>\n",
       "    <tr>\n",
       "      <th>8</th>\n",
       "      <td>4</td>\n",
       "      <td>0</td>\n",
       "      <td>0</td>\n",
       "      <td>3</td>\n",
       "      <td>0</td>\n",
       "      <td>1</td>\n",
       "    </tr>\n",
       "    <tr>\n",
       "      <th>9</th>\n",
       "      <td>4</td>\n",
       "      <td>0</td>\n",
       "      <td>0</td>\n",
       "      <td>3</td>\n",
       "      <td>0</td>\n",
       "      <td>2</td>\n",
       "    </tr>\n",
       "  </tbody>\n",
       "</table>\n",
       "</div>"
      ],
      "text/plain": [
       "   airhead  hersheys  kitkat  reeses  rolo  starburst\n",
       "0        0         0       0       0     0          0\n",
       "1        0         0       0       0     0          0\n",
       "2        0         0       0       0     0          0\n",
       "3        0         0       0       0     0          0\n",
       "4        0         0       0       0     0          0\n",
       "5        0         0       0       3     0          0\n",
       "6        0         0       0       3     0          1\n",
       "7        0         0       0       3     0          1\n",
       "8        4         0       0       3     0          1\n",
       "9        4         0       0       3     0          2"
      ]
     },
     "execution_count": 110,
     "metadata": {},
     "output_type": "execute_result"
    }
   ],
   "source": [
    "\n",
    "\n",
    "events_frame.head(10)\n",
    "\n"
   ]
  },
  {
   "cell_type": "code",
   "execution_count": 111,
   "metadata": {
    "collapsed": false
   },
   "outputs": [
    {
     "data": {
      "text/html": [
       "<div>\n",
       "<table border=\"1\" class=\"dataframe\">\n",
       "  <thead>\n",
       "    <tr style=\"text-align: right;\">\n",
       "      <th></th>\n",
       "      <th>gender</th>\n",
       "      <th>candy</th>\n",
       "      <th>flavor</th>\n",
       "      <th>age</th>\n",
       "      <th>ethnicity</th>\n",
       "      <th>shirt color</th>\n",
       "    </tr>\n",
       "  </thead>\n",
       "  <tbody>\n",
       "    <tr>\n",
       "      <th>0</th>\n",
       "      <td>M</td>\n",
       "      <td>reeses</td>\n",
       "      <td>NaN</td>\n",
       "      <td>26.0</td>\n",
       "      <td>white</td>\n",
       "      <td>red</td>\n",
       "    </tr>\n",
       "    <tr>\n",
       "      <th>1</th>\n",
       "      <td>M</td>\n",
       "      <td>kitkat</td>\n",
       "      <td>NaN</td>\n",
       "      <td>32.0</td>\n",
       "      <td>black</td>\n",
       "      <td>green</td>\n",
       "    </tr>\n",
       "    <tr>\n",
       "      <th>2</th>\n",
       "      <td>F</td>\n",
       "      <td>airhead</td>\n",
       "      <td>double mystery</td>\n",
       "      <td>26.0</td>\n",
       "      <td>mixed</td>\n",
       "      <td>white</td>\n",
       "    </tr>\n",
       "    <tr>\n",
       "      <th>3</th>\n",
       "      <td>M</td>\n",
       "      <td>starburst</td>\n",
       "      <td>red</td>\n",
       "      <td>26.0</td>\n",
       "      <td>white</td>\n",
       "      <td>red</td>\n",
       "    </tr>\n",
       "    <tr>\n",
       "      <th>4</th>\n",
       "      <td>F</td>\n",
       "      <td>reeses</td>\n",
       "      <td>NaN</td>\n",
       "      <td>31.0</td>\n",
       "      <td>white</td>\n",
       "      <td>black</td>\n",
       "    </tr>\n",
       "    <tr>\n",
       "      <th>5</th>\n",
       "      <td>F</td>\n",
       "      <td>starburst</td>\n",
       "      <td>red</td>\n",
       "      <td>26.0</td>\n",
       "      <td>asian</td>\n",
       "      <td>blue</td>\n",
       "    </tr>\n",
       "    <tr>\n",
       "      <th>6</th>\n",
       "      <td>F</td>\n",
       "      <td>hersheys</td>\n",
       "      <td>milk</td>\n",
       "      <td>27.0</td>\n",
       "      <td>asian</td>\n",
       "      <td>white</td>\n",
       "    </tr>\n",
       "    <tr>\n",
       "      <th>7</th>\n",
       "      <td>M</td>\n",
       "      <td>airhead</td>\n",
       "      <td>double mystery</td>\n",
       "      <td>23.0</td>\n",
       "      <td>white</td>\n",
       "      <td>black</td>\n",
       "    </tr>\n",
       "    <tr>\n",
       "      <th>8</th>\n",
       "      <td>M</td>\n",
       "      <td>starburst</td>\n",
       "      <td>pink</td>\n",
       "      <td>26.0</td>\n",
       "      <td>asian</td>\n",
       "      <td>white</td>\n",
       "    </tr>\n",
       "    <tr>\n",
       "      <th>9</th>\n",
       "      <td>M</td>\n",
       "      <td>reeses</td>\n",
       "      <td>NaN</td>\n",
       "      <td>30.0</td>\n",
       "      <td>asian</td>\n",
       "      <td>pink</td>\n",
       "    </tr>\n",
       "  </tbody>\n",
       "</table>\n",
       "</div>"
      ],
      "text/plain": [
       "  gender      candy          flavor   age ethnicity shirt color\n",
       "0      M     reeses             NaN  26.0     white         red\n",
       "1      M     kitkat             NaN  32.0     black       green\n",
       "2      F    airhead  double mystery  26.0     mixed       white\n",
       "3      M  starburst             red  26.0     white         red\n",
       "4      F     reeses             NaN  31.0     white       black\n",
       "5      F  starburst             red  26.0     asian        blue\n",
       "6      F   hersheys            milk  27.0     asian       white\n",
       "7      M    airhead  double mystery  23.0     white       black\n",
       "8      M  starburst            pink  26.0     asian       white\n",
       "9      M     reeses             NaN  30.0     asian        pink"
      ]
     },
     "execution_count": 111,
     "metadata": {},
     "output_type": "execute_result"
    }
   ],
   "source": [
    "df.head(10)"
   ]
  },
  {
   "cell_type": "code",
   "execution_count": 68,
   "metadata": {
    "collapsed": true
   },
   "outputs": [],
   "source": [
    "import random\n",
    "random.seed(5656)\n",
    "\n",
    "# Randomly select 30 events for our test set\n",
    "test_indices = set(random.sample(range(events_frame.shape[0]), 30))\n",
    "\n",
    "# Split our data into training and test data\n",
    "train_features = []\n",
    "train_labels = []\n",
    "test_features = []\n",
    "test_labels = []\n",
    "\n",
    "i = 0\n",
    "for airhead, hersheys, kitkat, reeses, rolo, starburst in events_frame.values:\n",
    "    if i in test_indices:\n",
    "        # Use starburst as our label, and all others as our features\n",
    "        test_features.append([airhead, hersheys, kitkat, reeses, rolo])\n",
    "        test_labels.append(starburst)\n",
    "    else:\n",
    "        train_features.append([airhead, hersheys, kitkat, reeses, rolo])\n",
    "        train_labels.append(starburst)\n",
    "    \n",
    "    i += 1\n"
   ]
  },
  {
   "cell_type": "code",
   "execution_count": 73,
   "metadata": {
    "collapsed": false
   },
   "outputs": [
    {
     "data": {
      "text/plain": [
       "LinearRegression(copy_X=True, fit_intercept=True, n_jobs=1, normalize=False)"
      ]
     },
     "execution_count": 73,
     "metadata": {},
     "output_type": "execute_result"
    }
   ],
   "source": [
    " import sklearn\n",
    "from sklearn import linear_model\n",
    "from sklearn.linear_model import LinearRegression\n",
    "model = linear_model.LinearRegression()\n",
    "model.fit(train_features, train_labels)\n"
   ]
  },
  {
   "cell_type": "code",
   "execution_count": 75,
   "metadata": {
    "collapsed": false
   },
   "outputs": [
    {
     "data": {
      "text/plain": [
       "array([ 0.27917575,  0.06709315,  0.23934536, -0.01416615,  0.13528712])"
      ]
     },
     "execution_count": 75,
     "metadata": {},
     "output_type": "execute_result"
    }
   ],
   "source": [
    "model.coef_"
   ]
  },
  {
   "cell_type": "code",
   "execution_count": 105,
   "metadata": {
    "collapsed": false
   },
   "outputs": [],
   "source": [
    "s=zip(events_frame.columns, model.coef_)"
   ]
  },
  {
   "cell_type": "code",
   "execution_count": 106,
   "metadata": {
    "collapsed": false
   },
   "outputs": [
    {
     "name": "stdout",
     "output_type": "stream",
     "text": [
      "('airhead', 0.27917574643921622)\n",
      "('hersheys', 0.067093148933345143)\n",
      "('kitkat', 0.23934536323789013)\n",
      "('reeses', -0.014166149813878186)\n",
      "('rolo', 0.13528711850951042)\n"
     ]
    }
   ],
   "source": [
    "for i in range(5):\n",
    "    print(s.__next__())\n",
    " "
   ]
  },
  {
   "cell_type": "code",
   "execution_count": 118,
   "metadata": {
    "collapsed": false
   },
   "outputs": [
    {
     "name": "stdout",
     "output_type": "stream",
     "text": [
      "0.0577530174629\n",
      "19.5789288047\n"
     ]
    }
   ],
   "source": [
    " import numpy \n",
    " print(model.score(train_features, train_labels))\n",
    " print(numpy.mean((model.predict(test_features) - test_labels) ** 2))"
   ]
  },
  {
   "cell_type": "code",
   "execution_count": 108,
   "metadata": {
    "collapsed": false
   },
   "outputs": [
    {
     "data": {
      "text/plain": [
       "<matplotlib.legend.Legend at 0x7fd998d80390>"
      ]
     },
     "execution_count": 108,
     "metadata": {},
     "output_type": "execute_result"
    },
    {
     "data": {
      "image/png": "[encoded data removed]",
      "text/plain": [
       "<matplotlib.figure.Figure at 0x7fd998da2550>"
      ]
     },
     "metadata": {},
     "output_type": "display_data"
    }
   ],
   "source": [
    "plt.plot(train_labels, color=\"green\", label=\"True value\")\n",
    "plt.plot(model.predict(train_features), label=\"Predicted value\")\n",
    "\n",
    "plt.xlabel(\"Selection number\", fontsize=14)\n",
    "plt.ylabel(\"Interselection time\", fontsize=14)\n",
    "plt.legend(frameon=True, shadow=True, framealpha=0.7, loc=0, prop={\"size\": 14})"
   ]
  },
  {
   "cell_type": "code",
   "execution_count": 115,
   "metadata": {
    "collapsed": false
   },
   "outputs": [
    {
     "data": {
      "text/plain": [
       "LinearRegression(copy_X=True, fit_intercept=True, n_jobs=1, normalize=False)"
      ]
     },
     "execution_count": 115,
     "metadata": {},
     "output_type": "execute_result"
    }
   ],
   "source": [
    "train_features_res = [[e[0], e[2]] for e in train_features]\n",
    "train_labels_res = train_labels\n",
    "test_features_res = [[e[0], e[2]] for e in test_features]\n",
    "test_labels_res = test_labels\n",
    "model_res = linear_model.LinearRegression()\n",
    "model_res.fit(train_features_res, train_labels_res)\n"
   ]
  },
  {
   "cell_type": "code",
   "execution_count": 116,
   "metadata": {
    "collapsed": false
   },
   "outputs": [
    {
     "data": {
      "text/plain": [
       "<matplotlib.legend.Legend at 0x7fd998c87710>"
      ]
     },
     "execution_count": 116,
     "metadata": {},
     "output_type": "execute_result"
    },
    {
     "data": {
      "image/png": "[encoded data removed]",
      "text/plain": [
       "<matplotlib.figure.Figure at 0x7fd998da0898>"
      ]
     },
     "metadata": {},
     "output_type": "display_data"
    }
   ],
   "source": [
    "plt.plot(train_labels_res, color=\"green\", label=\"True interselection time\")\n",
    "plt.plot(model_res.predict(train_features_res), label=\"Predicted interselection time\")\n",
    "\n",
    "plt.xlabel(\"Selection number\", fontsize=14)\n",
    "plt.ylabel(\"Interselection time\", fontsize=14)\n",
    "plt.legend(frameon=True, shadow=True, framealpha=0.7, loc=0, prop={\"size\": 14})"
   ]
  },
  {
   "cell_type": "code",
   "execution_count": 117,
   "metadata": {
    "collapsed": false
   },
   "outputs": [
    {
     "name": "stdout",
     "output_type": "stream",
     "text": [
      "21.1088658473\n",
      "0.0126303589977\n"
     ]
    }
   ],
   "source": [
    "print(numpy.mean((model_res.predict(test_features_res) - test_labels_res) ** 2))\n",
    "print(model_res.score(test_features_res, test_labels_res))"
   ]
  },
  {
   "cell_type": "code",
   "execution_count": null,
   "metadata": {
    "collapsed": true
   },
   "outputs": [],
   "source": []
  }
 ],
 "metadata": {
  "kernelspec": {
   "display_name": "Python 3",
   "language": "python",
   "name": "python3"
  },
  "language_info": {
   "codemirror_mode": {
    "name": "ipython",
    "version": 3
   },
   "file_extension": ".py",
   "mimetype": "text/x-python",
   "name": "python",
   "nbconvert_exporter": "python",
   "pygments_lexer": "ipython3",
   "version": "3.5.2"
  }
 },
 "nbformat": 4,
 "nbformat_minor": 2
}
